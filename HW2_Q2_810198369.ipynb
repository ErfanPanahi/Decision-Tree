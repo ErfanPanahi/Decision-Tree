{
  "nbformat": 4,
  "nbformat_minor": 0,
  "metadata": {
    "colab": {
      "provenance": []
    },
    "kernelspec": {
      "name": "python3",
      "display_name": "Python 3"
    },
    "language_info": {
      "name": "python"
    }
  },
  "cells": [
    {
      "cell_type": "code",
      "execution_count": 78,
      "metadata": {
        "id": "vYrrp1iqs_HB",
        "cellView": "form"
      },
      "outputs": [],
      "source": [
        "#@title Importing Packages\n",
        "import random\n",
        "import pandas as pd\n",
        "import numpy as np\n",
        "from sklearn.model_selection import train_test_split\n",
        "import warnings\n",
        "warnings.simplefilter(\"ignore\")"
      ]
    },
    {
      "cell_type": "code",
      "source": [
        "#@title Functions\n",
        "def Sex_Encoder(data):\n",
        "  data[data == 'male'] = 1 \n",
        "  data[data == 'female'] = 0\n",
        "  return data \n",
        "\n",
        "def Embarked_Encoder(data):\n",
        "  data[data == 'C'] = 2\n",
        "  data[data == 'Q'] = 1 \n",
        "  data[data == 'S'] = 0 \n",
        "  return data\n",
        "\n",
        "def prepro(data):\n",
        "  # Filling empty numerical values with median\n",
        "  data['Age'] = data['Age'].fillna(data['Age'].median())\n",
        "  data['Fare'] = data['Fare'].fillna(data['Fare'].median())\n",
        "  # Filling empty embarked with S\n",
        "  data['Embarked'] = data['Embarked'].fillna('S')\n",
        "  # Replacing categorical sex with integer values (0 for Female and 1 for Male)\n",
        "  data['Sex'] = Sex_Encoder(data['Sex'])\n",
        "  # Replacing categorical embarked with integer values (0 for S, 1 for Q, and 2 for C)\n",
        "  data['Embarked'] = Embarked_Encoder(data['Embarked'])\n",
        "\n",
        "def hb(p):\n",
        "  if ((p == 0) | (p == 1)): return 0\n",
        "  else: return (-p * np.log2(p) -(1-p)*np.log2(1-p)) \n",
        "\n",
        "def Entropy(x, y):\n",
        "  p1 = sum(np.array(x == 0)) / len(x)  \n",
        "  H1 = hb(sum(np.array((x == 0)) & (y == 0)) / len(x))\n",
        "  p2 = 1 - p1\n",
        "  H2 = hb(sum(np.array((x == 1)) & (y == 0)) / len(x))\n",
        "  H = p1 * H1 + p2 * H2\n",
        "  return H\n",
        "\n",
        "def split_line_finder(X, Label):\n",
        "  _ , feature_num = X.shape\n",
        "  Features = X.columns\n",
        "  H_lines = []; Features_lines = []\n",
        "  for j in range(len(Features)):\n",
        "    unique_values = np.sort(np.unique(X[Features[j]]))\n",
        "    H = []; lines = []\n",
        "    if len(unique_values) != 1:\n",
        "      for i in range(len(unique_values)-1):\n",
        "        lines.append((unique_values[i] + unique_values[i+1]) / 2)\n",
        "        x = np.zeros(len(X[Features[j]]))\n",
        "        x[X[Features[j]] <= lines[i]] = 0\n",
        "        x[X[Features[j]] > lines[i]] = 1\n",
        "        H.append(Entropy(x, Label))\n",
        "    else:\n",
        "      lines.append(unique_values[0])\n",
        "      x = np.zeros(len(X[Features[j]]))\n",
        "      x[X[Features[j]] <= lines[0]] = 0\n",
        "      x[X[Features[j]] > lines[0]] = 1\n",
        "      H.append(Entropy(x, Label))\n",
        "    ind = np.argsort(H)\n",
        "    H_lines.append(H[ind[0]])\n",
        "    Features_lines.append(lines[ind[0]])\n",
        "  ind = np.argsort(H_lines)\n",
        "  best_line = Features_lines[ind[0]]\n",
        "  feature = Features[ind[0]]  \n",
        "  return best_line, feature\n",
        "\n",
        "def splitter(X, Label, split_line, feature):\n",
        "  X_branch1 = X[X[feature] <= split_line].drop(feature, axis=1)\n",
        "  Y_branch1 = Label[X[feature] <= split_line]\n",
        "  X_branch2 = X[X[feature] > split_line].drop(feature, axis=1)\n",
        "  Y_branch2 = Label[X[feature] > split_line]\n",
        "  level = 7 - len(X_branch1.columns)\n",
        "  return X_branch1, X_branch2, Y_branch1, Y_branch2, level\n",
        "\n",
        "def decision_tree(X, Label, depth, max_depth):\n",
        "  if (depth == max_depth) or (sum(Label) == len(Label)) or (sum(Label) == 0) or (len(X.columns) == 0): \n",
        "    # Leaf node\n",
        "    leaf_label = int(sum(Label) >= len(Label)/2)\n",
        "    node = Node(label = leaf_label)\n",
        "  else: \n",
        "    split_line, feature = split_line_finder(X, Label)\n",
        "    X_branch1, X_branch2, Y_branch1, Y_branch2, level = splitter(X, Label, split_line, feature)\n",
        "    branch1_node = decision_tree(X_branch1, Y_branch1, level, max_depth)\n",
        "    branch2_node = decision_tree(X_branch2, Y_branch2, level, max_depth)\n",
        "    node = Node(feature, split_line, branch1_node, branch2_node)\n",
        "  return node\n",
        "\n",
        "def classifier(tree, x):\n",
        "  if tree.label != None:\n",
        "    Pred_Label = tree.label\n",
        "  else:\n",
        "    if x[tree.feature] <= tree.thr:\n",
        "      Pred_Label = classifier(tree.branch1_subtree, x)\n",
        "    else:\n",
        "      Pred_Label = classifier(tree.branch2_subtree, x)\n",
        "  return Pred_Label\n",
        "\n",
        "def Predict(X, tree):\n",
        "  Pred_Labels = []\n",
        "  n , _= X.shape\n",
        "  for i in range(n):\n",
        "    Pred_Labels.append(classifier(tree, X.iloc[i]))\n",
        "  return np.array(Pred_Labels)\n",
        "\n",
        "def Decision_Tree_metrics(True_Labels, Pred_Labels):\n",
        "  acc = sum(True_Labels == Pred_Labels) / len(True_Labels) * 100\n",
        "  confusion = np.matrix([[sum(np.array((True_Labels == 0) & (Pred_Labels == 0))), sum(np.array((True_Labels == 1) & (Pred_Labels == 0)))],\n",
        "                         [sum(np.array((True_Labels == 0) & (Pred_Labels == 1))), sum(np.array((True_Labels == 1) & (Pred_Labels == 1)))]])\n",
        "  return acc, confusion\n",
        "\n",
        "def random_forest(X, Label, n_trees, N):\n",
        "  trees = []\n",
        "  for i in range(n_trees):\n",
        "    rnd = random.sample(range(N),100)\n",
        "    X_rnd = X.iloc[rnd]\n",
        "    Y_rnd = Label.iloc[rnd]\n",
        "    trees.append(decision_tree(X_rnd, Y_rnd, depth = 0, max_depth = 7))\n",
        "  return trees\n",
        "\n",
        "def random_forest_classifier(trees, x):\n",
        "  Pred_Labels = []\n",
        "  for i in range(len(trees)):\n",
        "    Pred_Labels.append(classifier(trees[i], x))\n",
        "  Pred_Label = sum(Pred_Labels) >= len(Pred_Labels)/2\n",
        "  return Pred_Label\n",
        "\n",
        "def random_forest_Predict(X, trees):\n",
        "  Pred_Labels = []\n",
        "  n , _= X.shape\n",
        "  for i in range(n):\n",
        "    Pred_Labels.append(random_forest_classifier(trees, X.iloc[i]))\n",
        "  return np.array(Pred_Labels)"
      ],
      "metadata": {
        "cellView": "form",
        "id": "0qELqdjxwlD9"
      },
      "execution_count": 101,
      "outputs": []
    },
    {
      "cell_type": "code",
      "source": [
        "#@title Adding Dataset\n",
        "Data = pd.read_csv(\"titanic-train.csv\")\n",
        "prepro(Data)\n",
        "X_train, X_test, Y_train, Y_test = train_test_split(Data[Data.columns[Data.columns != 'Survived']], Data['Survived'], test_size = 0.2)"
      ],
      "metadata": {
        "id": "zxUEk1b7Y3wP",
        "cellView": "form"
      },
      "execution_count": 6,
      "outputs": []
    },
    {
      "cell_type": "code",
      "source": [
        "#@title Node Class\n",
        "class Node():\n",
        "  def __init__(self = None, feature = None, thr = None, branch1_subtree = None, branch2_subtree = None, label = None):\n",
        "    self.feature = feature\n",
        "    self.thr = thr\n",
        "    self.branch1_subtree = branch1_subtree\n",
        "    self.branch2_subtree = branch2_subtree\n",
        "    # for the leaf nodes\n",
        "    self.label = label"
      ],
      "metadata": {
        "id": "OjLtV9QK_KJw",
        "cellView": "form"
      },
      "execution_count": 7,
      "outputs": []
    },
    {
      "cell_type": "code",
      "source": [
        "#@title Maximum Depth = 3\n",
        "tree = decision_tree(X_train, Y_train, depth = 0, max_depth = 3)\n",
        "Pred_Labels = Predict(X_test, tree)\n",
        "accuracy, confusion = Decision_Tree_metrics(Y_test.values, Pred_Labels)\n",
        "accuracy, confusion\n",
        "print('Maximum Depth : 3\\n accuracy =' , accuracy,'%\\n confusion matrix:\\n' ,confusion, '\\n')\n"
      ],
      "metadata": {
        "colab": {
          "base_uri": "https://localhost:8080/"
        },
        "cellView": "form",
        "id": "EJeNhM6gJ9XP",
        "outputId": "fce4e483-2762-4512-90fe-20b0ad892e0c"
      },
      "execution_count": 68,
      "outputs": [
        {
          "output_type": "stream",
          "name": "stdout",
          "text": [
            "Maximum Depth : 3\n",
            " accuracy = 79.3296089385475 %\n",
            " confusion matrix:\n",
            " [[109  35]\n",
            " [  2  33]] \n",
            "\n"
          ]
        }
      ]
    },
    {
      "cell_type": "code",
      "source": [
        "#@title Maximum Depth = 4\n",
        "tree = decision_tree(X_train, Y_train, depth = 0, max_depth = 4)\n",
        "Pred_Labels = Predict(X_test, tree)\n",
        "accuracy, confusion = Decision_Tree_metrics(Y_test.values, Pred_Labels)\n",
        "accuracy, confusion\n",
        "print('Maximum Depth : 4\\n accuracy =' , accuracy,'%\\n confusion matrix:\\n' ,confusion, '\\n')\n"
      ],
      "metadata": {
        "colab": {
          "base_uri": "https://localhost:8080/"
        },
        "cellView": "form",
        "id": "jes-qi0Hm8Vp",
        "outputId": "fcb451a9-68bf-4a77-ed76-66670cf7786e"
      },
      "execution_count": 72,
      "outputs": [
        {
          "output_type": "stream",
          "name": "stdout",
          "text": [
            "Maximum Depth : 4\n",
            " accuracy = 81.00558659217877 %\n",
            " confusion matrix:\n",
            " [[109  32]\n",
            " [  2  36]] \n",
            "\n"
          ]
        }
      ]
    },
    {
      "cell_type": "code",
      "source": [
        "#@title Maximum Depth = 5\n",
        "tree = decision_tree(X_train, Y_train, depth = 0, max_depth = 5)\n",
        "Pred_Labels = Predict(X_test, tree)\n",
        "accuracy, confusion = Decision_Tree_metrics(Y_test.values, Pred_Labels)\n",
        "accuracy, confusion\n",
        "print('Maximum Depth : 5\\n accuracy =' , accuracy,'%\\n confusion matrix:\\n' ,confusion, '\\n')\n"
      ],
      "metadata": {
        "colab": {
          "base_uri": "https://localhost:8080/"
        },
        "cellView": "form",
        "id": "pFrP4xysn5Oa",
        "outputId": "c109c00a-8b18-4170-faa3-5f49fcd6d848"
      },
      "execution_count": 71,
      "outputs": [
        {
          "output_type": "stream",
          "name": "stdout",
          "text": [
            "Maximum Depth : 5\n",
            " accuracy = 81.56424581005587 %\n",
            " confusion matrix:\n",
            " [[110  32]\n",
            " [  1  36]] \n",
            "\n"
          ]
        }
      ]
    },
    {
      "cell_type": "code",
      "source": [
        "#@title Maximum Depth = 6\n",
        "tree = decision_tree(X_train, Y_train, depth = 0, max_depth = 6)\n",
        "Pred_Labels = Predict(X_test, tree)\n",
        "accuracy, confusion = Decision_Tree_metrics(Y_test.values, Pred_Labels)\n",
        "accuracy, confusion\n",
        "print('Maximum Depth : 6\\n accuracy =' , accuracy,'%\\n confusion matrix:\\n' ,confusion, '\\n')\n"
      ],
      "metadata": {
        "colab": {
          "base_uri": "https://localhost:8080/"
        },
        "cellView": "form",
        "id": "TVW5hKBtn55W",
        "outputId": "0b87df7e-9e43-4af1-b1ca-9fed7f3a8922"
      },
      "execution_count": 70,
      "outputs": [
        {
          "output_type": "stream",
          "name": "stdout",
          "text": [
            "Maximum Depth : 6\n",
            " accuracy = 82.12290502793296 %\n",
            " confusion matrix:\n",
            " [[110  31]\n",
            " [  1  37]] \n",
            "\n"
          ]
        }
      ]
    },
    {
      "cell_type": "code",
      "source": [
        "#@title Maximum Depth = 7\n",
        "tree = decision_tree(X_train, Y_train, depth = 0, max_depth = 7)\n",
        "Pred_Labels = Predict(X_test, tree)\n",
        "accuracy, confusion = Decision_Tree_metrics(Y_test.values, Pred_Labels)\n",
        "accuracy, confusion\n",
        "print('Maximum Depth : 7\\n accuracy =' , accuracy,'%\\n confusion matrix:\\n' ,confusion, '\\n')\n"
      ],
      "metadata": {
        "colab": {
          "base_uri": "https://localhost:8080/"
        },
        "cellView": "form",
        "id": "GjNC5tNYn6SR",
        "outputId": "9206ce83-c02f-406f-b42c-be3f3ff2e936"
      },
      "execution_count": 69,
      "outputs": [
        {
          "output_type": "stream",
          "name": "stdout",
          "text": [
            "Maximum Depth : 7\n",
            " accuracy = 81.56424581005587 %\n",
            " confusion matrix:\n",
            " [[109  31]\n",
            " [  2  37]] \n",
            "\n"
          ]
        }
      ]
    },
    {
      "cell_type": "code",
      "source": [
        "#@title Random Forest\n",
        "trees = random_forest(X_train, Y_train, n_trees = 10, N = 100)\n",
        "Pred_Labels = random_forest_Predict(X_test, trees)\n",
        "accuracy, confusion = Decision_Tree_metrics(Y_test.values, Pred_Labels)\n",
        "accuracy, confusion\n",
        "print('Random Forest with 10 trees : \\n accuracy =' , accuracy,'%\\n confusion matrix:\\n' ,confusion, '\\n')"
      ],
      "metadata": {
        "cellView": "form",
        "colab": {
          "base_uri": "https://localhost:8080/"
        },
        "id": "kH8LSfK_wVSv",
        "outputId": "5937ca91-4382-4e62-ebbc-26fcdac0ae40"
      },
      "execution_count": 99,
      "outputs": [
        {
          "output_type": "stream",
          "name": "stdout",
          "text": [
            "Random Forest with 10 trees : \n",
            " accuracy = 82.68156424581005 %\n",
            " confusion matrix:\n",
            " [[109  29]\n",
            " [  2  39]] \n",
            "\n"
          ]
        }
      ]
    }
  ]
}